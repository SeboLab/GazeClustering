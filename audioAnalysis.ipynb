{
 "metadata": {
  "language_info": {
   "codemirror_mode": {
    "name": "ipython",
    "version": 3
   },
   "file_extension": ".py",
   "mimetype": "text/x-python",
   "name": "python",
   "nbconvert_exporter": "python",
   "pygments_lexer": "ipython3",
   "version": "3.6.9"
  },
  "orig_nbformat": 4,
  "kernelspec": {
   "name": "python3",
   "display_name": "Python 3.6.9 64-bit"
  },
  "interpreter": {
   "hash": "31f2aee4e71d21fbe5cf8b01ff0e069b9275f58929596ceb00d14d90e3e16cd6"
  }
 },
 "nbformat": 4,
 "nbformat_minor": 2,
 "cells": [
  {
   "cell_type": "code",
   "execution_count": 42,
   "metadata": {},
   "outputs": [
    {
     "output_type": "error",
     "ename": "SyntaxError",
     "evalue": "invalid syntax (<ipython-input-42-6c114a01183b>, line 14)",
     "traceback": [
      "\u001b[0;36m  File \u001b[0;32m\"<ipython-input-42-6c114a01183b>\"\u001b[0;36m, line \u001b[0;32m14\u001b[0m\n\u001b[0;31m    GAZE_1_Y = ' gaze_1_y'cap = cv2.VideoCapture(VIDEO_FILE)\u001b[0m\n\u001b[0m                            ^\u001b[0m\n\u001b[0;31mSyntaxError\u001b[0m\u001b[0;31m:\u001b[0m invalid syntax\n"
     ]
    }
   ],
   "source": [
    "import pandas as pd\n",
    "import numpy as np\n",
    "import matplotlib.pyplot as plt\n",
    "\n",
    "CSV_FILE = '/media/sebo-hri-lab/DATA/OpenFace/group_CD_camera2_trim.csv'\n",
    "\n",
    "\n",
    "GAZE_ANGLE_X = ' gaze_angle_x'\n",
    "GAZE_ANGLE_Y = ' gaze_angle_y'\n",
    "GAZE_0_X = ' gaze_0_x'\n",
    "GAZE_0_Y = ' gaze_0_y'\n",
    "GAZE_0_Z = ' gaze_0_z'\n",
    "GAZE_1_X = ' gaze_1_x'\n",
    "GAZE_1_Y = ' gaze_1_y'\n",
    "GAZE_1_Z = ' gaze_1_z'\n",
    "\n",
    "FRAME_WIDTH = 640\n",
    "FRAME_HEIGHT = 480"
   ]
  },
  {
   "cell_type": "code",
   "execution_count": 34,
   "metadata": {},
   "outputs": [],
   "source": [
    "df = pd.read_csv(CSV_FILE)\n"
   ]
  },
  {
   "cell_type": "code",
   "execution_count": 35,
   "metadata": {},
   "outputs": [],
   "source": [
    "def edge_projection(row, frame_shape):\n",
    "    # frame shape is (width, height)\n",
    "\n",
    "    x_plane_normal = np.array([1, 0, 0])\n",
    "\n",
    "    if row[GAZE_0_X] > 0:\n",
    "        # participant is looking right\n",
    "        x_plane_point = np.array([frame_shape[0], 0, 0])\n",
    "    else:\n",
    "        # participant is looking left\n",
    "        x_plane_point = np.array([0, 0, 0])\n",
    "\n",
    "    y_plane_normal = np.array([0, 1, 0])\n",
    "    \n",
    "    if row[GAZE_0_Y] > 0:\n",
    "        # participant is looking down\n",
    "        y_plane_point = np.array([0, frame_shape[1], 0])\n",
    "    else:\n",
    "        # participant is looking up\n",
    "        y_plane_point = np.array([0, 0, 0])\n",
    "\n",
    "    line_point = np.array([row[' eye_lmk_x_0'], row[' eye_lmk_y_0'], 0])\n",
    "\n",
    "    line_vector = np.array([row[GAZE_0_X], row[GAZE_0_Y], row[GAZE_0_Z]])\n",
    "\n",
    "    x_t = np.dot((x_plane_point - line_point), x_plane_normal) / np.dot(line_vector, x_plane_normal)\n",
    "\n",
    "    y_t = np.dot((y_plane_point - line_point), y_plane_normal) / np.dot(line_vector, y_plane_normal)\n",
    "\n",
    "    if np.abs(x_t) < np.abs(y_t):\n",
    "        # gaze falls on the left/right edge\n",
    "        return (line_point + line_vector * x_t).astype(int)\n",
    "    else:\n",
    "        # gaze falls on the upper/lower edge\n",
    "        return (line_point + line_vector * y_t).astype(int)"
   ]
  },
  {
   "cell_type": "code",
   "execution_count": 36,
   "metadata": {
    "tags": []
   },
   "outputs": [],
   "source": [
    "vectorList = np.zeros((len(df),2))\n",
    "for index, row in df.iterrows():\n",
    "    if(row[GAZE_ANGLE_X] or row[GAZE_ANGLE_Y]):\n",
    "        res = edge_projection(row,(FRAME_WIDTH,FRAME_HEIGHT))\n",
    "        vectorList[index] = res[0],res[1]#[row[GAZE_0_X], row[GAZE_0_Y], row[GAZE_0_Z], row[GAZE_1_X], row[GAZE_1_Y], row[GAZE_1_Z]]"
   ]
  },
  {
   "cell_type": "code",
   "execution_count": null,
   "metadata": {},
   "outputs": [],
   "source": [
    "from sklearn.cluster import KMeans\n",
    "from sklearn.cluster import DBSCAN\n",
    "from sklearn.cluster import OPTICS\n",
    "from sklearn.cluster import AgglomerativeClustering\n",
    "from sklearn.cluster import Birch"
   ]
  },
  {
   "cell_type": "code",
   "execution_count": null,
   "metadata": {},
   "outputs": [],
   "source": [
    "clusters = KMeans(n_cluster=6,random_state=None).fit(vectorList)\n",
    "predictions = clusters.predict(vectorList)"
   ]
  },
  {
   "cell_type": "code",
   "execution_count": 39,
   "metadata": {},
   "outputs": [
    {
     "output_type": "display_data",
     "data": {
      "text/plain": "<Figure size 432x288 with 1 Axes>",
      "image/png": "[encoded data removed]"
     },
     "metadata": {
      "needs_background": "light"
     }
    }
   ],
   "source": [
    "colors = np.array([(0,0,1),(0,1,0),(1,0,1),(0,1,1),(1,0,0),(0,0,0)])\n",
    "plt.scatter(vectorList[:, 0], vectorList[:, 1], c=colors[predictions], s=1)\n",
    "plt.title(\"Incorrect Number of Blobs\")\n",
    "plt.gca().invert_yaxis()\n",
    "plt.savefig('class.png')"
   ]
  },
  {
   "cell_type": "code",
   "execution_count": 41,
   "metadata": {
    "tags": []
   },
   "outputs": [
    {
     "output_type": "error",
     "ename": "NameError",
     "evalue": "name 'kmeans' is not defined",
     "traceback": [
      "\u001b[0;31m---------------------------------------------------------------------------\u001b[0m",
      "\u001b[0;31mNameError\u001b[0m                                 Traceback (most recent call last)",
      "\u001b[0;32m<ipython-input-41-7e50dada19e7>\u001b[0m in \u001b[0;36m<module>\u001b[0;34m\u001b[0m\n\u001b[1;32m     18\u001b[0m         \u001b[0mgaze_target\u001b[0m \u001b[0;34m=\u001b[0m \u001b[0medge_projection\u001b[0m\u001b[0;34m(\u001b[0m\u001b[0mrow\u001b[0m\u001b[0;34m,\u001b[0m \u001b[0;34m(\u001b[0m\u001b[0mframe_width\u001b[0m\u001b[0;34m,\u001b[0m \u001b[0mframe_height\u001b[0m\u001b[0;34m)\u001b[0m\u001b[0;34m)\u001b[0m\u001b[0;34m\u001b[0m\u001b[0;34m\u001b[0m\u001b[0m\n\u001b[1;32m     19\u001b[0m         \u001b[0mvec\u001b[0m \u001b[0;34m=\u001b[0m \u001b[0;34m[\u001b[0m\u001b[0;34m[\u001b[0m\u001b[0mgaze_target\u001b[0m\u001b[0;34m[\u001b[0m\u001b[0;36m0\u001b[0m\u001b[0;34m]\u001b[0m\u001b[0;34m,\u001b[0m \u001b[0mgaze_target\u001b[0m\u001b[0;34m[\u001b[0m\u001b[0;36m1\u001b[0m\u001b[0;34m]\u001b[0m\u001b[0;34m]\u001b[0m\u001b[0;34m]\u001b[0m\u001b[0;34m\u001b[0m\u001b[0;34m\u001b[0m\u001b[0m\n\u001b[0;32m---> 20\u001b[0;31m         \u001b[0mclus\u001b[0m \u001b[0;34m=\u001b[0m \u001b[0mkmeans\u001b[0m\u001b[0;34m.\u001b[0m\u001b[0mpredict\u001b[0m\u001b[0;34m(\u001b[0m\u001b[0mvec\u001b[0m\u001b[0;34m)\u001b[0m\u001b[0;34m[\u001b[0m\u001b[0;36m0\u001b[0m\u001b[0;34m]\u001b[0m\u001b[0;34m\u001b[0m\u001b[0;34m\u001b[0m\u001b[0m\n\u001b[0m\u001b[1;32m     21\u001b[0m         \u001b[0mcv2\u001b[0m\u001b[0;34m.\u001b[0m\u001b[0mrectangle\u001b[0m\u001b[0;34m(\u001b[0m\u001b[0mframe\u001b[0m\u001b[0;34m,\u001b[0m\u001b[0;34m(\u001b[0m\u001b[0mgaze_target\u001b[0m\u001b[0;34m[\u001b[0m\u001b[0;36m0\u001b[0m\u001b[0;34m]\u001b[0m\u001b[0;34m-\u001b[0m\u001b[0mBOX_RADIUS\u001b[0m\u001b[0;34m,\u001b[0m\u001b[0mgaze_target\u001b[0m\u001b[0;34m[\u001b[0m\u001b[0;36m1\u001b[0m\u001b[0;34m]\u001b[0m\u001b[0;34m-\u001b[0m\u001b[0mBOX_RADIUS\u001b[0m\u001b[0;34m)\u001b[0m\u001b[0;34m,\u001b[0m\u001b[0;34m(\u001b[0m\u001b[0mgaze_target\u001b[0m\u001b[0;34m[\u001b[0m\u001b[0;36m0\u001b[0m\u001b[0;34m]\u001b[0m\u001b[0;34m+\u001b[0m\u001b[0mBOX_RADIUS\u001b[0m\u001b[0;34m,\u001b[0m\u001b[0mgaze_target\u001b[0m\u001b[0;34m[\u001b[0m\u001b[0;36m1\u001b[0m\u001b[0;34m]\u001b[0m\u001b[0;34m+\u001b[0m\u001b[0mBOX_RADIUS\u001b[0m\u001b[0;34m)\u001b[0m\u001b[0;34m,\u001b[0m\u001b[0mcolors\u001b[0m\u001b[0;34m[\u001b[0m\u001b[0mclus\u001b[0m\u001b[0;34m]\u001b[0m\u001b[0;34m,\u001b[0m\u001b[0;36m2\u001b[0m\u001b[0;34m)\u001b[0m\u001b[0;34m\u001b[0m\u001b[0;34m\u001b[0m\u001b[0m\n\u001b[1;32m     22\u001b[0m         \u001b[0;31m#out.write(frame)\u001b[0m\u001b[0;34m\u001b[0m\u001b[0;34m\u001b[0m\u001b[0;34m\u001b[0m\u001b[0m\n",
      "\u001b[0;31mNameError\u001b[0m: name 'kmeans' is not defined"
     ]
    }
   ],
   "source": [
    "import cv2\n",
    "#For Debug display only\n",
    "VIDEO_FILE = \"/media/sebo-hri-lab/DATA/Trimmed_Videos/group_CD_camera2_trim.mp4\"\n",
    "\n",
    "cap = cv2.VideoCapture(VIDEO_FILE)\n",
    "i = 0\n",
    "colors = [(255,0,0),(0,255,0),(255,0,255),(255,255,0),(0,0,255),(255,100,0)]\n",
    "frame_width = int(cap.get(3))\n",
    "frame_height = int(cap.get(4))\n",
    "BOX_RADIUS = 30\n",
    "#out = cv2.VideoWriter('classificationExaaze.avi',cv2.VideoWriter_fourcc('M','J','P','G'), 100, (frame_width,frame_height))\n",
    "while True:\n",
    "    _, frame = cap.read()\n",
    "    row = df.iloc[i]\n",
    "    if(row[GAZE_ANGLE_X] or row[GAZE_ANGLE_Y]):\n",
    "        #vec = [edge_projection(row,(frame_width, frame_height))]#[[row[GAZE_0_X], row[GAZE_0_Y],row[GAZE_0_Z], row[GAZE_1_X], row[GAZE_1_Y], row[GAZE_1_Z]]]\n",
    "    #, row[' gaze_0_x'], row[' gaze_0_y'], row[' gaze_0_z'], row[' gaze_1_x'], row[' gaze_1_y'], row[' gaze_1_z']]]\n",
    "        gaze_target = edge_projection(row, (frame_width, frame_height))\n",
    "        vec = [[gaze_target[0], gaze_target[1]]]\n",
    "        clus = clusters.predict(vec)[0]\n",
    "        cv2.rectangle(frame,(gaze_target[0]-BOX_RADIUS,gaze_target[1]-BOX_RADIUS),(gaze_target[0]+BOX_RADIUS,gaze_target[1]+BOX_RADIUS),colors[clus],2)\n",
    "        #out.write(frame)\n",
    "    cv2.imshow('my image', frame)\n",
    "    i+=1\n",
    "    if cv2.waitKey(1) & 0xFF == ord('q'):\n",
    "        break\n",
    "cap.release()\n",
    "#out.release()\n",
    "cv2.destroyAllWindows()\n"
   ]
  },
  {
   "cell_type": "code",
   "execution_count": 25,
   "metadata": {
    "tags": []
   },
   "outputs": [],
   "source": [
    "#COMPARING CLUSTER ALGORITHMS\n",
    "\n",
    "SELECTED_CLUSTERS = ['KMeans', 'DBSCAN', 'OPTICS', 'AC-Ward', 'AC-Complete', 'AC-Average', 'AC-Single', 'BIRCH']; \n",
    "\n",
    "N_CLUSTERS = 6\n",
    "def fitClusters(clusterName,vectorList):\n",
    "    print('Clustering with ' + clusterName)\n",
    "    if clusterName == 'KMeans':\n",
    "         res = KMeans(n_clusters=N_CLUSTERS, random_state=0).fit(vectorList)\n",
    "    elif clusterName == 'DBSCAN':\n",
    "         res = DBSCAN(eps=5, min_samples=5).fit(vectorList)\n",
    "    elif clusterName == 'OPTICS':\n",
    "         res=OPTICS(min_samples=2).fit(vectorList)\n",
    "    elif clusterName == 'BIRCH':\n",
    "         res =Birch(n_clusters=N_CLUSTERS).fit(vectorList)\n",
    "    elif clusterName == 'AC-Ward' :\n",
    "         res =AgglomerativeClustering(linkage='ward').fit(vectorList)\n",
    "    elif clusterName == 'AC-Average':\n",
    "         res = gglomerativeClustering(linkage='average').fit(vectorList)\n",
    "    elif clusterName == 'AC-Single':\n",
    "         res = AgglomerativeClustering(linkage='single').fit(vectorList)\n",
    "    elif clusterName == 'AC-Complete' :\n",
    "         res =AgglomerativeClustering(linkage='complete').fit(vectorList)\n",
    "    return res\n",
    "\n"
   ]
  },
  {
   "cell_type": "code",
   "execution_count": 12,
   "metadata": {},
   "outputs": [
    {
     "output_type": "stream",
     "name": "stdout",
     "text": [
      "640\n480\n"
     ]
    }
   ],
   "source": [
    "print(frame_width)\n",
    "print(frame_height)"
   ]
  },
  {
   "cell_type": "code",
   "execution_count": null,
   "metadata": {},
   "outputs": [],
   "source": []
  }
 ]
}