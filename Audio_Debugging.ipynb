{
 "cells": [
  {
   "cell_type": "markdown",
   "id": "bf8ba6c4",
   "metadata": {},
   "source": [
    "# Debugging"
   ]
  },
  {
   "cell_type": "code",
   "execution_count": 2,
   "id": "e67220fd",
   "metadata": {},
   "outputs": [],
   "source": [
    "VIDEO_FILE = \"Downloads/group_am_AKW514_front_02.MP4\"\n",
    "\n",
    "IN_FILE = \"Repos/jibo-survival-trimming/am_audio.MP4\"\n",
    "OUT_PATH = \"Repos/jibo-survival-trimming\""
   ]
  },
  {
   "cell_type": "code",
   "execution_count": 3,
   "id": "f99fd494",
   "metadata": {},
   "outputs": [],
   "source": [
    "import pyglet.media as pm\n",
    "import os"
   ]
  },
  {
   "cell_type": "code",
   "execution_count": 4,
   "id": "be77ac10",
   "metadata": {},
   "outputs": [
    {
     "name": "stdout",
     "output_type": "stream",
     "text": [
      "['AM_pid1_trim.wav', 'AM_pid2_trim.wav']\n"
     ]
    }
   ],
   "source": [
    "INPUT_PATH = \"Audio\"\n",
    "\n",
    "\n",
    "# Get csv data\n",
    "csv_files = [ file for file in os.listdir(INPUT_PATH) if \".csv\" in file ]\n",
    "\n",
    "# Get audio files\n",
    "audio_files = [ file for file in os.listdir(INPUT_PATH) if ((\".wav\" in file) & (file not in csv_files)) ]\n",
    "print(audio_files)"
   ]
  },
  {
   "cell_type": "code",
   "execution_count": 5,
   "id": "ba5c8cbe",
   "metadata": {},
   "outputs": [
    {
     "data": {
      "text/plain": [
       "<pyglet.media.player.Player at 0x7fa2e551cf10>"
      ]
     },
     "execution_count": 5,
     "metadata": {},
     "output_type": "execute_result"
    }
   ],
   "source": [
    "arr = []\n",
    "for file in audio_files:\n",
    "    source = pm.load(os.path.join(INPUT_PATH, file))\n",
    "    arr.append(source)\n",
    "\n",
    "for file in arr:\n",
    "    file.play()"
   ]
  },
  {
   "cell_type": "code",
   "execution_count": null,
   "id": "c1d0abb7",
   "metadata": {},
   "outputs": [],
   "source": []
  }
 ],
 "metadata": {
  "kernelspec": {
   "display_name": "Python 3",
   "language": "python",
   "name": "python3"
  },
  "language_info": {
   "codemirror_mode": {
    "name": "ipython",
    "version": 3
   },
   "file_extension": ".py",
   "mimetype": "text/x-python",
   "name": "python",
   "nbconvert_exporter": "python",
   "pygments_lexer": "ipython3",
   "version": "3.9.5"
  }
 },
 "nbformat": 4,
 "nbformat_minor": 5
}
