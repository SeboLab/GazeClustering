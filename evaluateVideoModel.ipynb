{
 "metadata": {
  "language_info": {
   "codemirror_mode": {
    "name": "ipython",
    "version": 3
   },
   "file_extension": ".py",
   "mimetype": "text/x-python",
   "name": "python",
   "nbconvert_exporter": "python",
   "pygments_lexer": "ipython3",
   "version": "3.6.9"
  },
  "orig_nbformat": 4,
  "kernelspec": {
   "name": "python3",
   "display_name": "Python 3.6.9 64-bit"
  },
  "interpreter": {
   "hash": "31f2aee4e71d21fbe5cf8b01ff0e069b9275f58929596ceb00d14d90e3e16cd6"
  }
 },
 "nbformat": 4,
 "nbformat_minor": 2,
 "cells": [
  {
   "cell_type": "code",
   "execution_count": 1,
   "metadata": {},
   "outputs": [],
   "source": [
    "import pickle\n",
    "import cv2\n",
    "import pandas as pd \n",
    "from sklearn.cluster import KMeans\n",
    "import numpy as np\n",
    "import matplotlib.pyplot as plt\n",
    "import config"
   ]
  },
  {
   "cell_type": "code",
   "execution_count": 2,
   "metadata": {},
   "outputs": [],
   "source": [
    "with open(config.PICKLE_TITLE, 'rb') as f:\n",
    "    clusters = pickle.load(f)\n"
   ]
  },
  {
   "cell_type": "code",
   "execution_count": 3,
   "metadata": {},
   "outputs": [
    {
     "output_type": "stream",
     "name": "stdout",
     "text": [
      "reading /media/sebo-hri-lab/DATA/OpenFace/group_CA_camera2_trim.csv\n"
     ]
    }
   ],
   "source": [
    "df = pd.read_csv(config.CSV_FILE, usecols=config.USED_COLS)\n",
    "df = df.loc[(df!=0).all(1)]\n",
    "\n",
    "print(\"reading \"+config.CSV_FILE)"
   ]
  },
  {
   "cell_type": "code",
   "execution_count": 4,
   "metadata": {},
   "outputs": [],
   "source": [
    "df['occurence'] = df.apply(lambda x: config.projection(x),axis=1)"
   ]
  },
  {
   "cell_type": "code",
   "execution_count": 5,
   "metadata": {},
   "outputs": [],
   "source": [
    "vectorList = np.zeros((len(df),config.N_FEATURES))\n",
    "vectorList = np.vstack(df['occurence'].to_numpy())\n"
   ]
  },
  {
   "cell_type": "code",
   "execution_count": 6,
   "metadata": {},
   "outputs": [],
   "source": [
    "#Color titles:\n",
    "RGB_BLUE,BGR_BLUE=(0,0,1),(255,0,0)\n",
    "RGB_GREEN,BGR_GREEN=(0,1,0),(0,255,0)\n",
    "RGB_RED,BGR_RED=(1,0,0),(0,0,255)\n",
    "RGB_YELLOW,BGR_YELLOW=(1,1,0),(0,255,255)\n",
    "RGB_PURPLE,BGR_PURPLE = (1,0,1),(255,0,255)\n",
    "RGB_CYAN,BGR_CYAN = (0,1,1),(255,255,0)\n",
    "RGB_ORANGE,BGR_ORANGE = (1,0.5,0),(0,140,255)\n",
    "RGB_GRAY,BGR_GRAY = (0.5,0.5,0.5),(150,150,150)\n",
    "RGB_BLACK,BGR_BLACK = (0,0,0),(0,0,0)\n",
    "RGB_WINE,BGR_WINE = (0.5,0,0.25),(75,0,127)"
   ]
  },
  {
   "cell_type": "code",
   "execution_count": 1,
   "metadata": {},
   "outputs": [
    {
     "output_type": "error",
     "ename": "NameError",
     "evalue": "name 'clusters' is not defined",
     "traceback": [
      "\u001b[0;31m---------------------------------------------------------------------------\u001b[0m",
      "\u001b[0;31mNameError\u001b[0m                                 Traceback (most recent call last)",
      "\u001b[0;32m<ipython-input-1-28829087b340>\u001b[0m in \u001b[0;36m<module>\u001b[0;34m\u001b[0m\n\u001b[0;32m----> 1\u001b[0;31m \u001b[0mpredictions\u001b[0m \u001b[0;34m=\u001b[0m \u001b[0mclusters\u001b[0m\u001b[0;34m.\u001b[0m\u001b[0mpredict\u001b[0m\u001b[0;34m(\u001b[0m\u001b[0mvectorList\u001b[0m\u001b[0;34m)\u001b[0m\u001b[0;34m\u001b[0m\u001b[0;34m\u001b[0m\u001b[0m\n\u001b[0m\u001b[1;32m      2\u001b[0m \u001b[0;34m\u001b[0m\u001b[0m\n\u001b[1;32m      3\u001b[0m \u001b[0mcolors\u001b[0m \u001b[0;34m=\u001b[0m \u001b[0mnp\u001b[0m\u001b[0;34m.\u001b[0m\u001b[0marray\u001b[0m\u001b[0;34m(\u001b[0m\u001b[0;34m[\u001b[0m\u001b[0mRGB_BLUE\u001b[0m\u001b[0;34m,\u001b[0m\u001b[0mRGB_GREEN\u001b[0m\u001b[0;34m,\u001b[0m\u001b[0mRGB_RED\u001b[0m\u001b[0;34m,\u001b[0m\u001b[0mRGB_YELLOW\u001b[0m\u001b[0;34m,\u001b[0m\u001b[0mRGB_PURPLE\u001b[0m\u001b[0;34m,\u001b[0m\u001b[0mRGB_CYAN\u001b[0m\u001b[0;34m,\u001b[0m\u001b[0mRGB_ORANGE\u001b[0m\u001b[0;34m,\u001b[0m\u001b[0mRGB_GRAY\u001b[0m\u001b[0;34m,\u001b[0m\u001b[0mRGB_BLACK\u001b[0m\u001b[0;34m,\u001b[0m\u001b[0mRGB_WINE\u001b[0m\u001b[0;34m]\u001b[0m\u001b[0;34m)\u001b[0m\u001b[0;34m\u001b[0m\u001b[0;34m\u001b[0m\u001b[0m\n\u001b[1;32m      4\u001b[0m \u001b[0;34m\u001b[0m\u001b[0m\n\u001b[1;32m      5\u001b[0m \u001b[0mplt\u001b[0m\u001b[0;34m.\u001b[0m\u001b[0mscatter\u001b[0m\u001b[0;34m(\u001b[0m\u001b[0mvectorList\u001b[0m\u001b[0;34m[\u001b[0m\u001b[0;34m:\u001b[0m\u001b[0;34m,\u001b[0m \u001b[0;36m0\u001b[0m\u001b[0;34m]\u001b[0m\u001b[0;34m,\u001b[0m \u001b[0mvectorList\u001b[0m\u001b[0;34m[\u001b[0m\u001b[0;34m:\u001b[0m\u001b[0;34m,\u001b[0m \u001b[0;36m1\u001b[0m\u001b[0;34m]\u001b[0m\u001b[0;34m,\u001b[0m \u001b[0mc\u001b[0m\u001b[0;34m=\u001b[0m\u001b[0mcolors\u001b[0m\u001b[0;34m[\u001b[0m\u001b[0mpredictions\u001b[0m\u001b[0;34m]\u001b[0m\u001b[0;34m,\u001b[0m \u001b[0ms\u001b[0m\u001b[0;34m=\u001b[0m\u001b[0;36m1\u001b[0m\u001b[0;34m)\u001b[0m\u001b[0;34m\u001b[0m\u001b[0;34m\u001b[0m\u001b[0m\n",
      "\u001b[0;31mNameError\u001b[0m: name 'clusters' is not defined"
     ]
    }
   ],
   "source": [
    "predictions = clusters.predict(vectorList)\n",
    "\n",
    "colors = np.array([RGB_BLUE,RGB_GREEN,RGB_RED,RGB_YELLOW,RGB_PURPLE,RGB_CYAN,RGB_ORANGE,RGB_GRAY,RGB_BLACK,RGB_WINE])\n",
    "            \n",
    "plt.scatter(vectorList[:, 0], vectorList[:, 1], c=colors[predictions], s=1)\n",
    "plt.title(\"Incorrect Number of Blobs\")\n",
    "plt.gca().invert_yaxis()\n",
    "plt.savefig('class_scatter.png')\n",
    "plt.show()\n",
    "plt.hist2d(vectorList[:, 0], vectorList[:, 1])\n",
    "plt.title(\"Incorrect Number of Blobs\")\n",
    "plt.gca().invert_yaxis()\n",
    "plt.savefig('class_hist.png')\n",
    "plt.show()\n"
   ]
  },
  {
   "cell_type": "code",
   "execution_count": 8,
   "metadata": {},
   "outputs": [],
   "source": [
    "cap = cv2.VideoCapture(config.VIDEO_FILE)\n",
    "i = 0\n",
    "colors = [BGR_BLUE,BGR_GREEN,BGR_RED,BGR_YELLOW,BGR_PURPLE,BGR_CYAN,BGR_ORANGE,BGR_GRAY,BGR_BLACK,BGR_WINE]\n",
    "frame_width = int(cap.get(3))\n",
    "frame_height = int(cap.get(4))\n",
    "BOX_RADIUS = 30\n",
    "out = cv2.VideoWriter('classificationExtract.avi',cv2.VideoWriter_fourcc('M','J','P','G'), 25, (frame_width,frame_height))\n",
    "while i<len(df):\n",
    "    _, frame = cap.read()\n",
    "    row = df.iloc[i]\n",
    "    if(row[config.GAZE_ANGLE_X] or row[config.GAZE_ANGLE_Y]):\n",
    "        gaze_target = config.screen_projection(row)\n",
    "        vec = [config.vec(row)]\n",
    "        clus = clusters.predict(vec)[0]\n",
    "        box_center = [gaze_target[0] + (frame_width//2), gaze_target[1] + (frame_height//2)]\n",
    "        cv2.rectangle(frame,(100,100),colors[clus],2)\n",
    "        out.write(frame)\n",
    "    cv2.imshow('my image', frame)\n",
    "    i+=1\n",
    "    if cv2.waitKey(1) & 0xFF == ord('q'):\n",
    "        break\n",
    "cap.release()\n",
    "out.release()\n",
    "cv2.destroyAllWindows()\n",
    "\n"
   ]
  },
  {
   "cell_type": "code",
   "execution_count": 8,
   "metadata": {},
   "outputs": [],
   "source": [
    "    "
   ]
  },
  {
   "cell_type": "code",
   "execution_count": null,
   "metadata": {},
   "outputs": [],
   "source": []
  }
 ]
}