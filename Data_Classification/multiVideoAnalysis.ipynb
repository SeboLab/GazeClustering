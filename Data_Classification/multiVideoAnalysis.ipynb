{
 "metadata": {
  "language_info": {
   "codemirror_mode": {
    "name": "ipython",
    "version": 3
   },
   "file_extension": ".py",
   "mimetype": "text/x-python",
   "name": "python",
   "nbconvert_exporter": "python",
   "pygments_lexer": "ipython3",
   "version": "3.6.9"
  },
  "orig_nbformat": 4,
  "kernelspec": {
   "name": "python3",
   "display_name": "Python 3.6.9 64-bit"
  },
  "interpreter": {
   "hash": "31f2aee4e71d21fbe5cf8b01ff0e069b9275f58929596ceb00d14d90e3e16cd6"
  }
 },
 "nbformat": 4,
 "nbformat_minor": 2,
 "cells": [
  {
   "cell_type": "code",
   "execution_count": 3,
   "metadata": {},
   "outputs": [],
   "source": [
    "import pandas as pd\n",
    "import numpy as np\n",
    "import matplotlib.pyplot as plt\n",
    "\n",
    "from sklearn.cluster import KMeans\n",
    "from sklearn.datasets import make_blobs\n",
    "\n",
    "GAZE_ANGLE_X = ' gaze_angle_x'\n",
    "GAZE_ANGLE_Y = ' gaze_angle_y'\n",
    "GAZE_0_X = ' gaze_0_x'\n",
    "GAZE_0_Y = ' gaze_0_y'\n",
    "GAZE_0_Z = ' gaze_0_z'\n",
    "GAZE_1_X = ' gaze_1_x'\n",
    "GAZE_1_Y = ' gaze_1_y'\n",
    "GAZE_1_Z = ' gaze_1_z'\n",
    "\n",
    "FRAME_WIDTH = 640\n",
    "FRAME_HEIGHT = 480\n",
    "\n",
    "\n"
   ]
  },
  {
   "cell_type": "code",
   "execution_count": 4,
   "metadata": {},
   "outputs": [],
   "source": [
    "def edge_projection(row, frame_shape):\n",
    "    # frame shape is (width, height)\n",
    "\n",
    "    x_plane_normal = np.array([1, 0, 0])\n",
    "\n",
    "    if row[GAZE_0_X] > 0:\n",
    "        # participant is looking right\n",
    "        x_plane_point = np.array([frame_shape[0], 0, 0])\n",
    "    else:\n",
    "        # participant is looking left\n",
    "        x_plane_point = np.array([0, 0, 0])\n",
    "\n",
    "    y_plane_normal = np.array([0, 1, 0])\n",
    "    \n",
    "    if row[GAZE_0_Y] > 0:\n",
    "        # participant is looking down\n",
    "        y_plane_point = np.array([0, frame_shape[1], 0])\n",
    "    else:\n",
    "        # participant is looking up\n",
    "        y_plane_point = np.array([0, 0, 0])\n",
    "\n",
    "    line_point = np.array([row[' eye_lmk_x_0'], row[' eye_lmk_y_0'], 0])\n",
    "\n",
    "    line_vector = np.array([row[GAZE_0_X], row[GAZE_0_Y], row[GAZE_0_Z]])\n",
    "\n",
    "    x_t = np.dot((x_plane_point - line_point), x_plane_normal) / np.dot(line_vector, x_plane_normal)\n",
    "\n",
    "    y_t = np.dot((y_plane_point - line_point), y_plane_normal) / np.dot(line_vector, y_plane_normal)\n",
    "\n",
    "    if np.abs(x_t) < np.abs(y_t):\n",
    "        # gaze falls on the left/right edge\n",
    "        return (line_point + line_vector * x_t).astype(int)\n",
    "    else:\n",
    "        # gaze falls on the upper/lower edge\n",
    "        return (line_point + line_vector * y_t).astype(int)"
   ]
  },
  {
   "cell_type": "code",
   "execution_count": 5,
   "metadata": {},
   "outputs": [
    {
     "output_type": "stream",
     "name": "stdout",
     "text": [
      "reading /media/sebo-hri-lab/DATA/OpenFace/group_AM_camera2_trim.csv\n",
      "reading /media/sebo-hri-lab/DATA/OpenFace/group_AO_camera2_trim.csv\n",
      "reading /media/sebo-hri-lab/DATA/OpenFace/group_AQ_camera2_trim.csv\n",
      "reading /media/sebo-hri-lab/DATA/OpenFace/group_AR_camera2_trim.csv\n",
      "reading /media/sebo-hri-lab/DATA/OpenFace/group_AT_camera2_trim.csv\n",
      "reading /media/sebo-hri-lab/DATA/OpenFace/group_AV_camera2_trim.csv\n",
      "reading /media/sebo-hri-lab/DATA/OpenFace/group_AX_camera2_trim.csv\n"
     ]
    }
   ],
   "source": [
    "import glob\n",
    "\n",
    "MAX_NUMS = 5\n",
    "CAMERA = \"camera2\"\n",
    "\n",
    "path = r\"/media/sebo-hri-lab/DATA/OpenFace/\" # use your path\n",
    "all_files = glob.glob(path + \"/*.csv\")\n",
    "\n",
    "li = []\n",
    "i = 0\n",
    "\n",
    "for filename in all_files:\n",
    "    if(CAMERA in filename):\n",
    "        print('reading '+filename)\n",
    "        if i>MAX_NUMS:\n",
    "            break\n",
    "        df = pd.read_csv(filename, index_col=None, header=0)\n",
    "        li.append(df)\n",
    "        i+=1\n",
    "\n",
    "frame = pd.concat(li, axis=0, ignore_index=True)"
   ]
  },
  {
   "cell_type": "code",
   "execution_count": 6,
   "metadata": {},
   "outputs": [],
   "source": [
    "vectorList = np.zeros((len(frame),2))\n",
    "for index, row in frame.iterrows():\n",
    "    if(row[GAZE_ANGLE_X] or row[GAZE_ANGLE_Y]):\n",
    "        res = edge_projection(row,(FRAME_WIDTH,FRAME_HEIGHT))\n",
    "        vectorList[index] = res[0],res[1]#[row[GAZE_0_X], row[GAZE_0_Y], row[GAZE_0_Z], row[GAZE_1_X], row[GAZE_1_Y], row[GAZE_1_Z]]\n",
    "\n"
   ]
  },
  {
   "cell_type": "code",
   "execution_count": 1,
   "metadata": {},
   "outputs": [
    {
     "output_type": "error",
     "ename": "NameError",
     "evalue": "name 'np' is not defined",
     "traceback": [
      "\u001b[0;31m---------------------------------------------------------------------------\u001b[0m",
      "\u001b[0;31mNameError\u001b[0m                                 Traceback (most recent call last)",
      "\u001b[0;32m<ipython-input-1-97c805a4f63a>\u001b[0m in \u001b[0;36m<module>\u001b[0;34m\u001b[0m\n\u001b[0;32m----> 1\u001b[0;31m \u001b[0mcolors\u001b[0m \u001b[0;34m=\u001b[0m \u001b[0mnp\u001b[0m\u001b[0;34m.\u001b[0m\u001b[0marray\u001b[0m\u001b[0;34m(\u001b[0m\u001b[0;34m[\u001b[0m\u001b[0;34m(\u001b[0m\u001b[0;36m0\u001b[0m\u001b[0;34m,\u001b[0m\u001b[0;36m0\u001b[0m\u001b[0;34m,\u001b[0m\u001b[0;36m1\u001b[0m\u001b[0;34m)\u001b[0m\u001b[0;34m,\u001b[0m\u001b[0;34m(\u001b[0m\u001b[0;36m0\u001b[0m\u001b[0;34m,\u001b[0m\u001b[0;36m1\u001b[0m\u001b[0;34m,\u001b[0m\u001b[0;36m0\u001b[0m\u001b[0;34m)\u001b[0m\u001b[0;34m,\u001b[0m\u001b[0;34m(\u001b[0m\u001b[0;36m1\u001b[0m\u001b[0;34m,\u001b[0m\u001b[0;36m0\u001b[0m\u001b[0;34m,\u001b[0m\u001b[0;36m1\u001b[0m\u001b[0;34m)\u001b[0m\u001b[0;34m,\u001b[0m\u001b[0;34m(\u001b[0m\u001b[0;36m0\u001b[0m\u001b[0;34m,\u001b[0m\u001b[0;36m1\u001b[0m\u001b[0;34m,\u001b[0m\u001b[0;36m1\u001b[0m\u001b[0;34m)\u001b[0m\u001b[0;34m,\u001b[0m\u001b[0;34m(\u001b[0m\u001b[0;36m1\u001b[0m\u001b[0;34m,\u001b[0m\u001b[0;36m0\u001b[0m\u001b[0;34m,\u001b[0m\u001b[0;36m0\u001b[0m\u001b[0;34m)\u001b[0m\u001b[0;34m,\u001b[0m\u001b[0;34m(\u001b[0m\u001b[0;36m0\u001b[0m\u001b[0;34m,\u001b[0m\u001b[0;36m0\u001b[0m\u001b[0;34m,\u001b[0m\u001b[0;36m0\u001b[0m\u001b[0;34m)\u001b[0m\u001b[0;34m]\u001b[0m\u001b[0;34m)\u001b[0m\u001b[0;34m\u001b[0m\u001b[0;34m\u001b[0m\u001b[0m\n\u001b[0m\u001b[1;32m      2\u001b[0m \u001b[0;34m\u001b[0m\u001b[0m\n\u001b[1;32m      3\u001b[0m \u001b[0mplt\u001b[0m\u001b[0;34m.\u001b[0m\u001b[0mscatter\u001b[0m\u001b[0;34m(\u001b[0m\u001b[0mvectorList\u001b[0m\u001b[0;34m[\u001b[0m\u001b[0;34m:\u001b[0m\u001b[0;34m,\u001b[0m \u001b[0;36m0\u001b[0m\u001b[0;34m]\u001b[0m\u001b[0;34m,\u001b[0m \u001b[0mvectorList\u001b[0m\u001b[0;34m[\u001b[0m\u001b[0;34m:\u001b[0m\u001b[0;34m,\u001b[0m \u001b[0;36m1\u001b[0m\u001b[0;34m]\u001b[0m\u001b[0;34m,\u001b[0m \u001b[0mc\u001b[0m\u001b[0;34m=\u001b[0m\u001b[0mcolors\u001b[0m\u001b[0;34m[\u001b[0m\u001b[0mpredictions\u001b[0m\u001b[0;34m]\u001b[0m\u001b[0;34m,\u001b[0m \u001b[0ms\u001b[0m\u001b[0;34m=\u001b[0m\u001b[0;36m1\u001b[0m\u001b[0;34m)\u001b[0m\u001b[0;34m\u001b[0m\u001b[0;34m\u001b[0m\u001b[0m\n\u001b[1;32m      4\u001b[0m \u001b[0mplt\u001b[0m\u001b[0;34m.\u001b[0m\u001b[0mtitle\u001b[0m\u001b[0;34m(\u001b[0m\u001b[0;34m\"Incorrect Number of Blobs\"\u001b[0m\u001b[0;34m)\u001b[0m\u001b[0;34m\u001b[0m\u001b[0;34m\u001b[0m\u001b[0m\n\u001b[1;32m      5\u001b[0m \u001b[0mplt\u001b[0m\u001b[0;34m.\u001b[0m\u001b[0mgca\u001b[0m\u001b[0;34m(\u001b[0m\u001b[0;34m)\u001b[0m\u001b[0;34m.\u001b[0m\u001b[0minvert_yaxis\u001b[0m\u001b[0;34m(\u001b[0m\u001b[0;34m)\u001b[0m\u001b[0;34m\u001b[0m\u001b[0;34m\u001b[0m\u001b[0m\n",
      "\u001b[0;31mNameError\u001b[0m: name 'np' is not defined"
     ]
    }
   ],
   "source": [
    "colors = np.array([(0,0,1),(0,1,0),(1,0,1),(0,1,1),(1,0,0),(0,0,0)])\n",
    "\n",
    "plt.scatter(vectorList[:, 0], vectorList[:, 1], c=colors[predictions], s=1)\n",
    "plt.title(\"Incorrect Number of Blobs\")\n",
    "plt.gca().invert_yaxis()\n",
    "plt.savefig('class.png')"
   ]
  },
  {
   "cell_type": "code",
   "execution_count": null,
   "metadata": {},
   "outputs": [],
   "source": []
  }
 ]
}