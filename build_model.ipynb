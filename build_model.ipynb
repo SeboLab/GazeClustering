{
 "metadata": {
  "language_info": {
   "codemirror_mode": {
    "name": "ipython",
    "version": 3
   },
   "file_extension": ".py",
   "mimetype": "text/x-python",
   "name": "python",
   "nbconvert_exporter": "python",
   "pygments_lexer": "ipython3",
   "version": "3.6.9"
  },
  "orig_nbformat": 4,
  "kernelspec": {
   "name": "python3",
   "display_name": "Python 3.6.9 64-bit"
  },
  "interpreter": {
   "hash": "31f2aee4e71d21fbe5cf8b01ff0e069b9275f58929596ceb00d14d90e3e16cd6"
  }
 },
 "nbformat": 4,
 "nbformat_minor": 2,
 "cells": [
  {
   "cell_type": "code",
   "execution_count": 1,
   "metadata": {},
   "outputs": [
    {
     "output_type": "stream",
     "name": "stdout",
     "text": [
      "KMEANS_edge_2_\n"
     ]
    }
   ],
   "source": [
    "import pandas as pd\n",
    "import numpy as np\n",
    "import matplotlib.pyplot as plt\n",
    "from sklearn.cluster import KMeans\n",
    "from sklearn.cluster import Birch\n",
    "from sklearn.cluster import DBSCAN\n",
    "import config\n",
    "\n",
    "print(config.MODEL_TITLE)"
   ]
  },
  {
   "cell_type": "code",
   "execution_count": 2,
   "metadata": {},
   "outputs": [],
   "source": [
    "if(config.GROUP_NAME!=None):\n",
    "    df = pd.read_csv(\"/media/sebo-hri-lab/DATA/OpenFace/group_\"+config.GROUP_NAME+\"_\"+config.CAMERA+\"_trim.csv\")\n",
    "else:\n",
    "    df = pd.read_csv(config.FILE_NAME)\n"
   ]
  },
  {
   "cell_type": "code",
   "execution_count": 3,
   "metadata": {},
   "outputs": [],
   "source": [
    "vectorList = np.zeros((len(df),config.N_FEATURES))\n",
    "df['occurence'] = df.apply(lambda x: config.projection(x),axis=1)"
   ]
  },
  {
   "cell_type": "code",
   "execution_count": 4,
   "metadata": {},
   "outputs": [],
   "source": [
    "vectorList = np.vstack(df['occurence'].to_numpy())"
   ]
  },
  {
   "cell_type": "code",
   "execution_count": 5,
   "metadata": {},
   "outputs": [
    {
     "output_type": "stream",
     "name": "stdout",
     "text": [
      "1686899\n[[  0 195]\n [  0 192]\n [  0 186]\n ...\n [298   0]\n [312   0]\n [ 23   0]]\n"
     ]
    }
   ],
   "source": [
    "print(len(vectorList))\n",
    "print(vectorList)"
   ]
  },
  {
   "cell_type": "code",
   "execution_count": 6,
   "metadata": {},
   "outputs": [],
   "source": [
    "clusters = KMeans(n_clusters=config.N_CLUSTERS).fit(vectorList)\n"
   ]
  },
  {
   "cell_type": "code",
   "execution_count": 7,
   "metadata": {},
   "outputs": [
    {
     "output_type": "stream",
     "name": "stdout",
     "text": [
      "finished writing model\n"
     ]
    }
   ],
   "source": [
    "import pickle\n",
    "\n",
    "with open(config.PICKLE_TITLE, 'wb') as handle:\n",
    "    pickle.dump(clusters, handle, protocol=pickle.HIGHEST_PROTOCOL)\n",
    "print(\"finished writing model\")"
   ]
  }
 ]
}