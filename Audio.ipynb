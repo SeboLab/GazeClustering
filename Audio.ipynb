{
 "cells": [
  {
   "cell_type": "markdown",
   "id": "19299a50",
   "metadata": {},
   "source": [
    "## Read data and create Dataframe"
   ]
  },
  {
   "cell_type": "code",
   "execution_count": 2,
   "id": "66a81f2c",
   "metadata": {},
   "outputs": [
    {
     "name": "stdout",
     "output_type": "stream",
     "text": [
      "['AM_conf_trim.wav.csv', 'AM_pid1_trim.wav.csv', 'AM_pid3_trim.wav.csv', 'AM_pid2_trim.wav.csv']\n"
     ]
    }
   ],
   "source": [
    "import os\n",
    "import pandas as pd\n",
    "import numpy as np\n",
    "\n",
    "GROUP = \"AM\"\n",
    "\n",
    "INPUT_PATH = \"../../Downloads/Audio\"\n",
    "\n",
    "# Get csv data\n",
    "csv_files = [ file for file in os.listdir(INPUT_PATH) if \".csv\" in file and file != \"AM_who_is_talking.csv\" ]\n",
    "\n",
    "# Get audio files\n",
    "audio_files = [ file for file in os.listdir(INPUT_PATH) if ((\".wav\" in file) & (file not in csv_files)) ]\n",
    "\n",
    "print(csv_files)"
   ]
  },
  {
   "cell_type": "code",
   "execution_count": 3,
   "id": "5419a5e3",
   "metadata": {},
   "outputs": [
    {
     "data": {
      "text/html": [
       "<div>\n",
       "<style scoped>\n",
       "    .dataframe tbody tr th:only-of-type {\n",
       "        vertical-align: middle;\n",
       "    }\n",
       "\n",
       "    .dataframe tbody tr th {\n",
       "        vertical-align: top;\n",
       "    }\n",
       "\n",
       "    .dataframe thead th {\n",
       "        text-align: right;\n",
       "    }\n",
       "</style>\n",
       "<table border=\"1\" class=\"dataframe\">\n",
       "  <thead>\n",
       "    <tr style=\"text-align: right;\">\n",
       "      <th></th>\n",
       "      <th>start</th>\n",
       "      <th>end</th>\n",
       "      <th>Loudness_conf</th>\n",
       "      <th>Loudness_pid1</th>\n",
       "      <th>Loudness_pid3</th>\n",
       "      <th>Loudness_pid2</th>\n",
       "    </tr>\n",
       "  </thead>\n",
       "  <tbody>\n",
       "    <tr>\n",
       "      <th>0</th>\n",
       "      <td>0 days 00:00:00</td>\n",
       "      <td>0 days 00:00:00.020000</td>\n",
       "      <td>0.129840</td>\n",
       "      <td>0.026259</td>\n",
       "      <td>0.025662</td>\n",
       "      <td>0.094732</td>\n",
       "    </tr>\n",
       "    <tr>\n",
       "      <th>1</th>\n",
       "      <td>0 days 00:00:00.010000</td>\n",
       "      <td>0 days 00:00:00.030000</td>\n",
       "      <td>0.127732</td>\n",
       "      <td>0.025168</td>\n",
       "      <td>0.024983</td>\n",
       "      <td>0.102169</td>\n",
       "    </tr>\n",
       "    <tr>\n",
       "      <th>2</th>\n",
       "      <td>0 days 00:00:00.020000</td>\n",
       "      <td>0 days 00:00:00.040000</td>\n",
       "      <td>0.138426</td>\n",
       "      <td>0.024509</td>\n",
       "      <td>0.024033</td>\n",
       "      <td>0.112490</td>\n",
       "    </tr>\n",
       "    <tr>\n",
       "      <th>3</th>\n",
       "      <td>0 days 00:00:00.030000</td>\n",
       "      <td>0 days 00:00:00.050000</td>\n",
       "      <td>0.162534</td>\n",
       "      <td>0.023480</td>\n",
       "      <td>0.022020</td>\n",
       "      <td>0.110796</td>\n",
       "    </tr>\n",
       "    <tr>\n",
       "      <th>4</th>\n",
       "      <td>0 days 00:00:00.040000</td>\n",
       "      <td>0 days 00:00:00.060000</td>\n",
       "      <td>0.216453</td>\n",
       "      <td>0.022911</td>\n",
       "      <td>0.022171</td>\n",
       "      <td>0.097784</td>\n",
       "    </tr>\n",
       "  </tbody>\n",
       "</table>\n",
       "</div>"
      ],
      "text/plain": [
       "                    start                     end  Loudness_conf  \\\n",
       "0         0 days 00:00:00  0 days 00:00:00.020000       0.129840   \n",
       "1  0 days 00:00:00.010000  0 days 00:00:00.030000       0.127732   \n",
       "2  0 days 00:00:00.020000  0 days 00:00:00.040000       0.138426   \n",
       "3  0 days 00:00:00.030000  0 days 00:00:00.050000       0.162534   \n",
       "4  0 days 00:00:00.040000  0 days 00:00:00.060000       0.216453   \n",
       "\n",
       "   Loudness_pid1  Loudness_pid3  Loudness_pid2  \n",
       "0       0.026259       0.025662       0.094732  \n",
       "1       0.025168       0.024983       0.102169  \n",
       "2       0.024509       0.024033       0.112490  \n",
       "3       0.023480       0.022020       0.110796  \n",
       "4       0.022911       0.022171       0.097784  "
      ]
     },
     "execution_count": 3,
     "metadata": {},
     "output_type": "execute_result"
    }
   ],
   "source": [
    "# Loudness of each mic\n",
    "\n",
    "df = pd.DataFrame()\n",
    "\n",
    "for i, file in enumerate(csv_files):\n",
    "    \n",
    "    if \"_conf\" in file:\n",
    "        ext = \"conf\"\n",
    "    else:\n",
    "        ext = \"pid\" + file[file.find(\"pid\") + 3]\n",
    "        \n",
    "    temp_df = pd.read_csv(os.path.join(INPUT_PATH, file))\n",
    "    \n",
    "    # start and end time stamps -- files are synced\n",
    "    if i == 0:\n",
    "        df['start'] = temp_df['start']\n",
    "        df['end'] = temp_df['end']\n",
    "    \n",
    "    df[f\"Loudness_{ext}\"] = temp_df['Loudness_sma3']\n",
    "\n",
    "df.head()"
   ]
  },
  {
   "cell_type": "markdown",
   "id": "71b9ab0d",
   "metadata": {},
   "source": [
    "## Correlation between mic loudness"
   ]
  },
  {
   "cell_type": "code",
   "execution_count": 4,
   "id": "f5f7ffe4",
   "metadata": {
    "scrolled": false
   },
   "outputs": [
    {
     "data": {
      "image/png": "[encoded data removed]",
      "text/plain": [
       "<Figure size 432x288 with 2 Axes>"
      ]
     },
     "metadata": {
      "needs_background": "light"
     },
     "output_type": "display_data"
    }
   ],
   "source": [
    "import seaborn as sn\n",
    "import matplotlib.pyplot as plt\n",
    "\n",
    "ordered_df = df[['Loudness_pid1', 'Loudness_pid2', 'Loudness_pid3', 'Loudness_conf']]\n",
    "\n",
    "corrMatrix = ordered_df.corr()\n",
    "sn.heatmap(corrMatrix, annot=True)\n",
    "plt.show()"
   ]
  },
  {
   "cell_type": "markdown",
   "id": "d47b11eb",
   "metadata": {},
   "source": [
    "The correlation matrix shows, as expected, that **participant mics are well insulated while the conference mic is not.**"
   ]
  },
  {
   "cell_type": "markdown",
   "id": "4e39ab3a",
   "metadata": {},
   "source": [
    "## Normalization\n",
    "Creation of `_norm` columns. Columns with the loudness columns normalized to a 0-10 range."
   ]
  },
  {
   "cell_type": "code",
   "execution_count": 5,
   "id": "0fb5dc0e",
   "metadata": {},
   "outputs": [],
   "source": [
    "range = 10\n",
    "\n",
    "for col in [\"Loudness_pid1\", \"Loudness_pid2\", \"Loudness_pid3\", \"Loudness_conf\"]:\n",
    "    df[col + \"_norm\"] = df[col] * range / max(1, np.abs(df[col].max()))"
   ]
  },
  {
   "cell_type": "markdown",
   "id": "16d87505",
   "metadata": {},
   "source": [
    "## Thresholding\n",
    "Adding the absolute threshold values from the previous github repo."
   ]
  },
  {
   "cell_type": "code",
   "execution_count": 6,
   "id": "f21891e8",
   "metadata": {},
   "outputs": [
    {
     "data": {
      "image/png": "[encoded data removed]",
      "text/plain": [
       "<Figure size 432x288 with 1 Axes>"
      ]
     },
     "metadata": {
      "needs_background": "light"
     },
     "output_type": "display_data"
    },
    {
     "data": {
      "image/png": "[encoded data removed]",
      "text/plain": [
       "<Figure size 432x288 with 1 Axes>"
      ]
     },
     "metadata": {
      "needs_background": "light"
     },
     "output_type": "display_data"
    },
    {
     "data": {
      "image/png": "[encoded data removed]",
      "text/plain": [
       "<Figure size 432x288 with 1 Axes>"
      ]
     },
     "metadata": {
      "needs_background": "light"
     },
     "output_type": "display_data"
    },
    {
     "data": {
      "image/png": "[encoded data removed]",
      "text/plain": [
       "<Figure size 432x288 with 1 Axes>"
      ]
     },
     "metadata": {
      "needs_background": "light"
     },
     "output_type": "display_data"
    }
   ],
   "source": [
    "# Plots the normalized data and its distribution relative to the chosen absolute thresold\n",
    "\n",
    "thresh = 0.35 # approximate of 575/16384 found in github repo\n",
    "\n",
    "for id in [\"pid1\", \"pid2\", \"pid3\", \"conf\"]:\n",
    "    col = \"Loudness_%s_norm\" % (id)\n",
    "\n",
    "    plt.figure()\n",
    "    plt.plot(df[col])\n",
    "    plt.plot(np.ones(len(df)) * thresh)"
   ]
  },
  {
   "cell_type": "code",
   "execution_count": 7,
   "id": "e84c8c9c",
   "metadata": {},
   "outputs": [],
   "source": [
    "for id in [\"pid1\", \"pid2\", \"pid3\", \"conf\"]:\n",
    "    norm = \"Loudness_%s_norm\" % (id)\n",
    "    df[id + \"_speaking\"] = df[norm] > thresh"
   ]
  },
  {
   "cell_type": "markdown",
   "id": "7da7a2e9",
   "metadata": {},
   "source": [
    "## `jibo_speaking` \n",
    "Since the `conf` mic is susceptible to loudness in other mics, we say jibo is speaking if the conference mic's loudness is greater than `thresh` *AND* all other mics are below the loudness `thresh` "
   ]
  },
  {
   "cell_type": "code",
   "execution_count": 8,
   "id": "1d38aa6e",
   "metadata": {},
   "outputs": [],
   "source": [
    "df[\"jibo_speaking\"] = df.apply(lambda x: x[\"conf_speaking\"] and not (x[\"pid1_speaking\"] or x[\"pid2_speaking\"] or x[\"pid3_speaking\"]) , axis=1)"
   ]
  },
  {
   "cell_type": "code",
   "execution_count": 9,
   "id": "05633077",
   "metadata": {},
   "outputs": [
    {
     "data": {
      "text/html": [
       "<div>\n",
       "<style scoped>\n",
       "    .dataframe tbody tr th:only-of-type {\n",
       "        vertical-align: middle;\n",
       "    }\n",
       "\n",
       "    .dataframe tbody tr th {\n",
       "        vertical-align: top;\n",
       "    }\n",
       "\n",
       "    .dataframe thead th {\n",
       "        text-align: right;\n",
       "    }\n",
       "</style>\n",
       "<table border=\"1\" class=\"dataframe\">\n",
       "  <thead>\n",
       "    <tr style=\"text-align: right;\">\n",
       "      <th></th>\n",
       "      <th>start</th>\n",
       "      <th>end</th>\n",
       "      <th>Loudness_conf</th>\n",
       "      <th>Loudness_pid1</th>\n",
       "      <th>Loudness_pid3</th>\n",
       "      <th>Loudness_pid2</th>\n",
       "      <th>Loudness_pid1_norm</th>\n",
       "      <th>Loudness_pid2_norm</th>\n",
       "      <th>Loudness_pid3_norm</th>\n",
       "      <th>Loudness_conf_norm</th>\n",
       "      <th>pid1_speaking</th>\n",
       "      <th>pid2_speaking</th>\n",
       "      <th>pid3_speaking</th>\n",
       "      <th>conf_speaking</th>\n",
       "      <th>jibo_speaking</th>\n",
       "    </tr>\n",
       "  </thead>\n",
       "  <tbody>\n",
       "    <tr>\n",
       "      <th>0</th>\n",
       "      <td>0 days 00:00:00</td>\n",
       "      <td>0 days 00:00:00.020000</td>\n",
       "      <td>0.129840</td>\n",
       "      <td>0.026259</td>\n",
       "      <td>0.025662</td>\n",
       "      <td>0.094732</td>\n",
       "      <td>0.045466</td>\n",
       "      <td>0.231781</td>\n",
       "      <td>0.045116</td>\n",
       "      <td>0.172129</td>\n",
       "      <td>False</td>\n",
       "      <td>False</td>\n",
       "      <td>False</td>\n",
       "      <td>False</td>\n",
       "      <td>False</td>\n",
       "    </tr>\n",
       "    <tr>\n",
       "      <th>1</th>\n",
       "      <td>0 days 00:00:00.010000</td>\n",
       "      <td>0 days 00:00:00.030000</td>\n",
       "      <td>0.127732</td>\n",
       "      <td>0.025168</td>\n",
       "      <td>0.024983</td>\n",
       "      <td>0.102169</td>\n",
       "      <td>0.043577</td>\n",
       "      <td>0.249977</td>\n",
       "      <td>0.043922</td>\n",
       "      <td>0.169335</td>\n",
       "      <td>False</td>\n",
       "      <td>False</td>\n",
       "      <td>False</td>\n",
       "      <td>False</td>\n",
       "      <td>False</td>\n",
       "    </tr>\n",
       "    <tr>\n",
       "      <th>2</th>\n",
       "      <td>0 days 00:00:00.020000</td>\n",
       "      <td>0 days 00:00:00.040000</td>\n",
       "      <td>0.138426</td>\n",
       "      <td>0.024509</td>\n",
       "      <td>0.024033</td>\n",
       "      <td>0.112490</td>\n",
       "      <td>0.042436</td>\n",
       "      <td>0.275229</td>\n",
       "      <td>0.042253</td>\n",
       "      <td>0.183513</td>\n",
       "      <td>False</td>\n",
       "      <td>False</td>\n",
       "      <td>False</td>\n",
       "      <td>False</td>\n",
       "      <td>False</td>\n",
       "    </tr>\n",
       "    <tr>\n",
       "      <th>3</th>\n",
       "      <td>0 days 00:00:00.030000</td>\n",
       "      <td>0 days 00:00:00.050000</td>\n",
       "      <td>0.162534</td>\n",
       "      <td>0.023480</td>\n",
       "      <td>0.022020</td>\n",
       "      <td>0.110796</td>\n",
       "      <td>0.040653</td>\n",
       "      <td>0.271085</td>\n",
       "      <td>0.038714</td>\n",
       "      <td>0.215472</td>\n",
       "      <td>False</td>\n",
       "      <td>False</td>\n",
       "      <td>False</td>\n",
       "      <td>False</td>\n",
       "      <td>False</td>\n",
       "    </tr>\n",
       "    <tr>\n",
       "      <th>4</th>\n",
       "      <td>0 days 00:00:00.040000</td>\n",
       "      <td>0 days 00:00:00.060000</td>\n",
       "      <td>0.216453</td>\n",
       "      <td>0.022911</td>\n",
       "      <td>0.022171</td>\n",
       "      <td>0.097784</td>\n",
       "      <td>0.039669</td>\n",
       "      <td>0.239249</td>\n",
       "      <td>0.038980</td>\n",
       "      <td>0.286954</td>\n",
       "      <td>False</td>\n",
       "      <td>False</td>\n",
       "      <td>False</td>\n",
       "      <td>False</td>\n",
       "      <td>False</td>\n",
       "    </tr>\n",
       "  </tbody>\n",
       "</table>\n",
       "</div>"
      ],
      "text/plain": [
       "                    start                     end  Loudness_conf  \\\n",
       "0         0 days 00:00:00  0 days 00:00:00.020000       0.129840   \n",
       "1  0 days 00:00:00.010000  0 days 00:00:00.030000       0.127732   \n",
       "2  0 days 00:00:00.020000  0 days 00:00:00.040000       0.138426   \n",
       "3  0 days 00:00:00.030000  0 days 00:00:00.050000       0.162534   \n",
       "4  0 days 00:00:00.040000  0 days 00:00:00.060000       0.216453   \n",
       "\n",
       "   Loudness_pid1  Loudness_pid3  Loudness_pid2  Loudness_pid1_norm  \\\n",
       "0       0.026259       0.025662       0.094732            0.045466   \n",
       "1       0.025168       0.024983       0.102169            0.043577   \n",
       "2       0.024509       0.024033       0.112490            0.042436   \n",
       "3       0.023480       0.022020       0.110796            0.040653   \n",
       "4       0.022911       0.022171       0.097784            0.039669   \n",
       "\n",
       "   Loudness_pid2_norm  Loudness_pid3_norm  Loudness_conf_norm  pid1_speaking  \\\n",
       "0            0.231781            0.045116            0.172129          False   \n",
       "1            0.249977            0.043922            0.169335          False   \n",
       "2            0.275229            0.042253            0.183513          False   \n",
       "3            0.271085            0.038714            0.215472          False   \n",
       "4            0.239249            0.038980            0.286954          False   \n",
       "\n",
       "   pid2_speaking  pid3_speaking  conf_speaking  jibo_speaking  \n",
       "0          False          False          False          False  \n",
       "1          False          False          False          False  \n",
       "2          False          False          False          False  \n",
       "3          False          False          False          False  \n",
       "4          False          False          False          False  "
      ]
     },
     "execution_count": 9,
     "metadata": {},
     "output_type": "execute_result"
    }
   ],
   "source": [
    "df.head()"
   ]
  },
  {
   "cell_type": "markdown",
   "id": "331a9d77",
   "metadata": {},
   "source": [
    "# Output\n",
    "\n",
    "| Participant | Column        |\n",
    "|-------------|---------------|\n",
    "| 1           | pid1_speaking |\n",
    "| 2           | pid2_speaking |\n",
    "| 3           | pid3_speaking |\n",
    "| jibo        | jibo_speaking |"
   ]
  },
  {
   "cell_type": "code",
   "execution_count": 11,
   "id": "d1f1e280",
   "metadata": {},
   "outputs": [],
   "source": [
    "for id in [\"pid1\", \"pid2\", \"pid3\", \"jibo\"]:\n",
    "    \n",
    "    results = []\n",
    "    count = 0\n",
    "    speaking = False\n",
    "    THRESHOLD = 10\n",
    "    \n",
    "    for entry in df[id + \"_speaking\"]:\n",
    "        if count >= THRESHOLD:\n",
    "            speaking = not speaking\n",
    "            count = 0\n",
    "        elif speaking != entry:\n",
    "            count += 1\n",
    "        else:\n",
    "            count = 0\n",
    "        results.append(speaking)\n",
    "    \n",
    "    df[id + \"_speaking_2\"] = results"
   ]
  },
  {
   "cell_type": "code",
   "execution_count": 12,
   "id": "c0c14b4a",
   "metadata": {},
   "outputs": [
    {
     "data": {
      "text/html": [
       "<div>\n",
       "<style scoped>\n",
       "    .dataframe tbody tr th:only-of-type {\n",
       "        vertical-align: middle;\n",
       "    }\n",
       "\n",
       "    .dataframe tbody tr th {\n",
       "        vertical-align: top;\n",
       "    }\n",
       "\n",
       "    .dataframe thead th {\n",
       "        text-align: right;\n",
       "    }\n",
       "</style>\n",
       "<table border=\"1\" class=\"dataframe\">\n",
       "  <thead>\n",
       "    <tr style=\"text-align: right;\">\n",
       "      <th></th>\n",
       "      <th>start</th>\n",
       "      <th>end</th>\n",
       "      <th>Loudness_conf</th>\n",
       "      <th>Loudness_pid1</th>\n",
       "      <th>Loudness_pid3</th>\n",
       "      <th>Loudness_pid2</th>\n",
       "      <th>Loudness_pid1_norm</th>\n",
       "      <th>Loudness_pid2_norm</th>\n",
       "      <th>Loudness_pid3_norm</th>\n",
       "      <th>Loudness_conf_norm</th>\n",
       "      <th>pid1_speaking</th>\n",
       "      <th>pid2_speaking</th>\n",
       "      <th>pid3_speaking</th>\n",
       "      <th>conf_speaking</th>\n",
       "      <th>jibo_speaking</th>\n",
       "      <th>pid1_speaking_2</th>\n",
       "      <th>pid2_speaking_2</th>\n",
       "      <th>pid3_speaking_2</th>\n",
       "      <th>jibo_speaking_2</th>\n",
       "    </tr>\n",
       "  </thead>\n",
       "  <tbody>\n",
       "    <tr>\n",
       "      <th>0</th>\n",
       "      <td>0 days 00:00:00</td>\n",
       "      <td>0 days 00:00:00.020000</td>\n",
       "      <td>0.129840</td>\n",
       "      <td>0.026259</td>\n",
       "      <td>0.025662</td>\n",
       "      <td>0.094732</td>\n",
       "      <td>0.045466</td>\n",
       "      <td>0.231781</td>\n",
       "      <td>0.045116</td>\n",
       "      <td>0.172129</td>\n",
       "      <td>False</td>\n",
       "      <td>False</td>\n",
       "      <td>False</td>\n",
       "      <td>False</td>\n",
       "      <td>False</td>\n",
       "      <td>False</td>\n",
       "      <td>False</td>\n",
       "      <td>False</td>\n",
       "      <td>False</td>\n",
       "    </tr>\n",
       "    <tr>\n",
       "      <th>1</th>\n",
       "      <td>0 days 00:00:00.010000</td>\n",
       "      <td>0 days 00:00:00.030000</td>\n",
       "      <td>0.127732</td>\n",
       "      <td>0.025168</td>\n",
       "      <td>0.024983</td>\n",
       "      <td>0.102169</td>\n",
       "      <td>0.043577</td>\n",
       "      <td>0.249977</td>\n",
       "      <td>0.043922</td>\n",
       "      <td>0.169335</td>\n",
       "      <td>False</td>\n",
       "      <td>False</td>\n",
       "      <td>False</td>\n",
       "      <td>False</td>\n",
       "      <td>False</td>\n",
       "      <td>False</td>\n",
       "      <td>False</td>\n",
       "      <td>False</td>\n",
       "      <td>False</td>\n",
       "    </tr>\n",
       "    <tr>\n",
       "      <th>2</th>\n",
       "      <td>0 days 00:00:00.020000</td>\n",
       "      <td>0 days 00:00:00.040000</td>\n",
       "      <td>0.138426</td>\n",
       "      <td>0.024509</td>\n",
       "      <td>0.024033</td>\n",
       "      <td>0.112490</td>\n",
       "      <td>0.042436</td>\n",
       "      <td>0.275229</td>\n",
       "      <td>0.042253</td>\n",
       "      <td>0.183513</td>\n",
       "      <td>False</td>\n",
       "      <td>False</td>\n",
       "      <td>False</td>\n",
       "      <td>False</td>\n",
       "      <td>False</td>\n",
       "      <td>False</td>\n",
       "      <td>False</td>\n",
       "      <td>False</td>\n",
       "      <td>False</td>\n",
       "    </tr>\n",
       "    <tr>\n",
       "      <th>3</th>\n",
       "      <td>0 days 00:00:00.030000</td>\n",
       "      <td>0 days 00:00:00.050000</td>\n",
       "      <td>0.162534</td>\n",
       "      <td>0.023480</td>\n",
       "      <td>0.022020</td>\n",
       "      <td>0.110796</td>\n",
       "      <td>0.040653</td>\n",
       "      <td>0.271085</td>\n",
       "      <td>0.038714</td>\n",
       "      <td>0.215472</td>\n",
       "      <td>False</td>\n",
       "      <td>False</td>\n",
       "      <td>False</td>\n",
       "      <td>False</td>\n",
       "      <td>False</td>\n",
       "      <td>False</td>\n",
       "      <td>False</td>\n",
       "      <td>False</td>\n",
       "      <td>False</td>\n",
       "    </tr>\n",
       "    <tr>\n",
       "      <th>4</th>\n",
       "      <td>0 days 00:00:00.040000</td>\n",
       "      <td>0 days 00:00:00.060000</td>\n",
       "      <td>0.216453</td>\n",
       "      <td>0.022911</td>\n",
       "      <td>0.022171</td>\n",
       "      <td>0.097784</td>\n",
       "      <td>0.039669</td>\n",
       "      <td>0.239249</td>\n",
       "      <td>0.038980</td>\n",
       "      <td>0.286954</td>\n",
       "      <td>False</td>\n",
       "      <td>False</td>\n",
       "      <td>False</td>\n",
       "      <td>False</td>\n",
       "      <td>False</td>\n",
       "      <td>False</td>\n",
       "      <td>False</td>\n",
       "      <td>False</td>\n",
       "      <td>False</td>\n",
       "    </tr>\n",
       "  </tbody>\n",
       "</table>\n",
       "</div>"
      ],
      "text/plain": [
       "                    start                     end  Loudness_conf  \\\n",
       "0         0 days 00:00:00  0 days 00:00:00.020000       0.129840   \n",
       "1  0 days 00:00:00.010000  0 days 00:00:00.030000       0.127732   \n",
       "2  0 days 00:00:00.020000  0 days 00:00:00.040000       0.138426   \n",
       "3  0 days 00:00:00.030000  0 days 00:00:00.050000       0.162534   \n",
       "4  0 days 00:00:00.040000  0 days 00:00:00.060000       0.216453   \n",
       "\n",
       "   Loudness_pid1  Loudness_pid3  Loudness_pid2  Loudness_pid1_norm  \\\n",
       "0       0.026259       0.025662       0.094732            0.045466   \n",
       "1       0.025168       0.024983       0.102169            0.043577   \n",
       "2       0.024509       0.024033       0.112490            0.042436   \n",
       "3       0.023480       0.022020       0.110796            0.040653   \n",
       "4       0.022911       0.022171       0.097784            0.039669   \n",
       "\n",
       "   Loudness_pid2_norm  Loudness_pid3_norm  Loudness_conf_norm  pid1_speaking  \\\n",
       "0            0.231781            0.045116            0.172129          False   \n",
       "1            0.249977            0.043922            0.169335          False   \n",
       "2            0.275229            0.042253            0.183513          False   \n",
       "3            0.271085            0.038714            0.215472          False   \n",
       "4            0.239249            0.038980            0.286954          False   \n",
       "\n",
       "   pid2_speaking  pid3_speaking  conf_speaking  jibo_speaking  \\\n",
       "0          False          False          False          False   \n",
       "1          False          False          False          False   \n",
       "2          False          False          False          False   \n",
       "3          False          False          False          False   \n",
       "4          False          False          False          False   \n",
       "\n",
       "   pid1_speaking_2  pid2_speaking_2  pid3_speaking_2  jibo_speaking_2  \n",
       "0            False            False            False            False  \n",
       "1            False            False            False            False  \n",
       "2            False            False            False            False  \n",
       "3            False            False            False            False  \n",
       "4            False            False            False            False  "
      ]
     },
     "execution_count": 12,
     "metadata": {},
     "output_type": "execute_result"
    }
   ],
   "source": [
    "df.head()"
   ]
  },
  {
   "cell_type": "code",
   "execution_count": 13,
   "id": "f99270e3",
   "metadata": {},
   "outputs": [],
   "source": [
    "df.to_csv(\"../../Downloads/Audio/\" + GROUP + \"_who_is_talking.csv\")"
   ]
  }
 ],
 "metadata": {
  "kernelspec": {
   "display_name": "Python 3",
   "language": "python",
   "name": "python3"
  },
  "language_info": {
   "codemirror_mode": {
    "name": "ipython",
    "version": 3
   },
   "file_extension": ".py",
   "mimetype": "text/x-python",
   "name": "python",
   "nbconvert_exporter": "python",
   "pygments_lexer": "ipython3",
   "version": "3.9.5"
  }
 },
 "nbformat": 4,
 "nbformat_minor": 5
}